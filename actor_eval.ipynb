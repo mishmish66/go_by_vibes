{
 "cells": [
  {
   "cell_type": "code",
   "execution_count": null,
   "id": "2241d7cb-f933-4aad-9815-c024de5551fb",
   "metadata": {},
   "outputs": [],
   "source": [
    "from finger import Finger\n",
    "\n",
    "from physics.gen.mass_matrix import mass_matrix\n",
    "from physics.gen.bias_forces import bias_forces\n",
    "\n",
    "from physics.simulate import step\n",
    "from physics.visualize import animate\n",
    "\n",
    "import jax\n",
    "import jax.numpy as jnp\n",
    "import jax.profiler\n",
    "import flax\n",
    "from flax import linen as nn\n",
    "from flax import struct\n",
    "import optax\n",
    "\n",
    "import jax.experimental.host_callback\n",
    "\n",
    "from training.infos import Infos\n",
    "\n",
    "import shutil\n",
    "\n",
    "from einops import einops, einsum\n",
    "import matplotlib.pyplot as plt\n",
    "\n",
    "from embeds import EmbeddingLayer\n",
    "from training.rollout import collect_rollout\n",
    "\n",
    "from training.eval_actor import evaluate_actor\n",
    "from training.vibe_state import (\n",
    "    VibeState,\n",
    "    TrainConfig,\n",
    ")\n",
    "from training.nets import (\n",
    "    StateEncoder,\n",
    "    ActionEncoder,\n",
    "    TransitionModel,\n",
    "    StateDecoder,\n",
    "    ActionDecoder,\n",
    "    encoded_state_dim,\n",
    "    encoded_action_dim,\n",
    ")\n",
    "\n",
    "import orbax.checkpoint as ocp\n",
    "\n",
    "# from unitree_go1 import UnitreeGo1\n",
    "\n",
    "from training.train import train_step, dump_to_wandb\n",
    "from policy import (\n",
    "    random_policy,\n",
    "    random_repeat_policy,\n",
    "    make_target_conf_policy,\n",
    "    make_piecewise_actor,\n",
    "    random_action,\n",
    ")  # , max_dist_policy\n",
    "\n",
    "import os\n",
    "\n",
    "%matplotlib inline"
   ]
  },
  {
   "cell_type": "code",
   "execution_count": null,
   "id": "1aa11031-dea5-43ea-beb4-7b6438850983",
   "metadata": {},
   "outputs": [],
   "source": [
    "seed = 1\n",
    "\n",
    "# Generate random key\n",
    "key = jax.random.PRNGKey(seed)\n",
    "\n",
    "checkpointer = ocp.PyTreeCheckpointer()\n",
    "\n",
    "learning_rate = float(2.5e-4)\n",
    "every_k = 4\n",
    "\n",
    "env_cls = Finger\n",
    "\n",
    "env_config = env_cls.get_config()\n",
    "\n",
    "schedule = optax.cosine_onecycle_schedule(\n",
    "    8192,\n",
    "    peak_value=learning_rate,\n",
    "    pct_start=0.125,\n",
    "    div_factor=1.0,\n",
    "    final_div_factor=10.0,\n",
    ")\n",
    "\n",
    "vibe_config = TrainConfig.init(\n",
    "    learning_rate=learning_rate,\n",
    "    optimizer=optax.MultiSteps(\n",
    "        optax.chain(\n",
    "            optax.zero_nans(),\n",
    "            optax.clip_by_global_norm(200.0),\n",
    "            optax.lion(learning_rate=schedule),\n",
    "        ),\n",
    "        every_k_schedule=every_k,\n",
    "    ),\n",
    "    state_encoder=StateEncoder(),\n",
    "    action_encoder=ActionEncoder(),\n",
    "    transition_model=TransitionModel(1e4, 6, 64, 4),\n",
    "    state_decoder=StateDecoder(env_config.state_dim),\n",
    "    action_decoder=ActionDecoder(env_config.act_dim),\n",
    "    env_config=env_config,\n",
    "    seed=seed,\n",
    "    rollouts=256,\n",
    "    epochs=256,\n",
    "    batch_size=128,\n",
    "    every_k=every_k,\n",
    "    traj_per_rollout=4096,\n",
    "    rollout_length=512,\n",
    "    reconstruction_weight=1.0,\n",
    "    forward_weight=1.0,\n",
    "    smoothness_weight=1.0,\n",
    "    condensation_weight=1.0,\n",
    "    dispersion_weight=1.0,\n",
    "    inverse_reconstruction_gate_sharpness=1,\n",
    "    inverse_forward_gate_sharpness=1,\n",
    "    inverse_reconstruction_gate_center=-9,\n",
    "    inverse_forward_gate_center=-9,\n",
    "    forward_gate_sharpness=1,\n",
    "    smoothness_gate_sharpness=1,\n",
    "    dispersion_gate_sharpness=1,\n",
    "    condensation_gate_sharpness=1,\n",
    "    forward_gate_center=-2,\n",
    "    smoothness_gate_center=-5,\n",
    "    dispersion_gate_center=-9,\n",
    "    condensation_gate_center=-9,\n",
    ")\n",
    "\n",
    "rng, key = jax.random.split(key)\n",
    "vibe_state = VibeState.init(rng, vibe_config)"
   ]
  },
  {
   "cell_type": "code",
   "execution_count": null,
   "id": "c461ec5e-f338-45b2-a830-40d740ecb114",
   "metadata": {},
   "outputs": [],
   "source": [
    "rng, key = jax.random.split(key)\n",
    "vibe_state = VibeState.init(rng, vibe_config)\n",
    "\n",
    "checkpoint_dir = \"checkpoints\"\n",
    "\n",
    "vibe_state = checkpointer.restore(\n",
    "    os.path.join(checkpoint_dir, \"checkpoint_r32_s8192.0\"), item=vibe_state\n",
    ")"
   ]
  },
  {
   "cell_type": "code",
   "execution_count": null,
   "id": "9632d148-a4e3-4e70-8c1f-1e09fd0b18cc",
   "metadata": {
    "scrolled": true
   },
   "outputs": [],
   "source": [
    "vibe_state"
   ]
  },
  {
   "cell_type": "markdown",
   "id": "a8b6fe3b-772f-49de-b4d3-fdb50ab01a89",
   "metadata": {},
   "source": [
    "## Actually run the actor evals, this will take a while"
   ]
  },
  {
   "cell_type": "code",
   "execution_count": null,
   "id": "6b065500-71b6-4f67-a34a-92fb06e18275",
   "metadata": {},
   "outputs": [],
   "source": [
    "eval_count = 4"
   ]
  },
  {
   "cell_type": "code",
   "execution_count": null,
   "id": "ef2c1ba9-8bf8-4b49-89e9-5cdadd8595a9",
   "metadata": {},
   "outputs": [],
   "source": [
    "rng, key = jax.random.split(key)\n",
    "rngs = jax.random.split(rng, eval_count)\n",
    "\n",
    "evaluate_actor_partial = jax.tree_util.Partial(\n",
    "    evaluate_actor,\n",
    "    big_step_size=0.2,\n",
    "    big_steps=512,\n",
    "    small_step_size=0.001,\n",
    "    small_steps=512,\n",
    "    big_post_steps=0,\n",
    "    small_post_steps=16,\n",
    "    target_q=-1.0,\n",
    ")\n",
    "\n",
    "start_state = env_cls.init()\n",
    "\n",
    "(result_states, result_actions), info, optimized_actions = jax.vmap(\n",
    "    evaluate_actor_partial, in_axes=(0, None, None, None, None)\n",
    ")(\n",
    "    rngs,\n",
    "    start_state,\n",
    "    env_cls,\n",
    "    vibe_state,\n",
    "    vibe_config,\n",
    ")"
   ]
  },
  {
   "cell_type": "code",
   "execution_count": null,
   "id": "9065d8e6-f730-41c9-bbe1-3f8935e92a8a",
   "metadata": {},
   "outputs": [],
   "source": [
    "info.plain_infos['final_cost']"
   ]
  },
  {
   "cell_type": "code",
   "execution_count": null,
   "id": "4a879228-25a3-42bf-90bf-ba0f481d77ae",
   "metadata": {},
   "outputs": [],
   "source": [
    "plt.hist(info.plain_infos['final_cost'])"
   ]
  },
  {
   "cell_type": "code",
   "execution_count": null,
   "metadata": {},
   "outputs": [],
   "source": [
    "# np.isnan(np.linalg.norm(optimized_actions, axis=-1, ord=1)).any()"
   ]
  },
  {
   "cell_type": "code",
   "execution_count": null,
   "metadata": {},
   "outputs": [],
   "source": [
    "import numpy as np\n",
    "\n",
    "np.isnan(result_states[0]).mean()"
   ]
  },
  {
   "cell_type": "code",
   "execution_count": null,
   "metadata": {},
   "outputs": [],
   "source": [
    "np.linalg.norm(optimized_actions, axis=-1, ord=1).max()"
   ]
  },
  {
   "cell_type": "code",
   "execution_count": null,
   "metadata": {},
   "outputs": [],
   "source": [
    "info.plain_infos['final_cost']"
   ]
  },
  {
   "cell_type": "code",
   "execution_count": null,
   "metadata": {},
   "outputs": [],
   "source": [
    "result_states[0,256]"
   ]
  },
  {
   "cell_type": "code",
   "execution_count": null,
   "id": "3f18e0a8-ee5e-4a76-be34-f4e5f137531b",
   "metadata": {},
   "outputs": [],
   "source": [
    "import mediapy as media\n",
    "\n",
    "video = env_cls.host_make_video(result_states[1], env_config).transpose(0, 2, 3, 1)\n",
    "media.show_video(video)"
   ]
  },
  {
   "cell_type": "code",
   "execution_count": null,
   "metadata": {},
   "outputs": [],
   "source": []
  }
 ],
 "metadata": {
  "kernelspec": {
   "display_name": "Python 3 (ipykernel)",
   "language": "python",
   "name": "python3"
  },
  "language_info": {
   "codemirror_mode": {
    "name": "ipython",
    "version": 3
   },
   "file_extension": ".py",
   "mimetype": "text/x-python",
   "name": "python",
   "nbconvert_exporter": "python",
   "pygments_lexer": "ipython3",
   "version": "3.10.12"
  }
 },
 "nbformat": 4,
 "nbformat_minor": 5
}
